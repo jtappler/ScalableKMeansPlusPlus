{
 "cells": [
  {
   "cell_type": "markdown",
   "metadata": {},
   "source": [
    "# Unit Tests"
   ]
  },
  {
   "cell_type": "code",
   "execution_count": 79,
   "metadata": {
    "collapsed": false
   },
   "outputs": [
    {
     "name": "stdout",
     "output_type": "stream",
     "text": [
      "Overwriting tests/KMeansParallel_func.py\n"
     ]
    }
   ],
   "source": [
    "%%file tests/KMeansParallel_func.py\n",
    "\n",
    "#!/usr/bin/python\n",
    "from __future__ import division\n",
    "import os\n",
    "import sys\n",
    "import glob\n",
    "import random\n",
    "import sklearn\n",
    "import sklearn.cluster\n",
    "import numpy as np\n",
    "from CostFunction_func import CostFunction\n",
    "from SamplingProbability_func import SamplingProbability\n",
    "\n",
    "\n",
    "def KMeansParallel(data, k, l):\n",
    "    N = data.__len__()\n",
    "    if k <= 0 or not(isinstance(k,int)) or l <= 0:\n",
    "        sys.exit(\"illegal input\")    \n",
    "    # Then we start to Implement the algorithm\n",
    "    # 1. Sample one point uniformly at random from X\n",
    "    c = np.array(data[np.random.choice(range(N),1),])\n",
    "    # 2. To Cost function\n",
    "    phi = CostFunction(c, data)\n",
    "    # 3. Looping\n",
    "    for i in range(np.ceil(np.log(phi)).astype(int)):\n",
    "        cPrime = data[SamplingProbability(c,data,l) > np.random.uniform(size = N),]\n",
    "        c = np.concatenate((c, cPrime))\n",
    "    # End looping\n",
    "    # 7. For x in C, set w_x to be the number of pts closest to X\n",
    "    cMini = [np.argmin(np.sum((c-pts)**2,axis=1)) for pts in data];\n",
    "    closerPts = [cMini.count(i) for i in range(len(c))]\n",
    "    weight = closerPts/np.sum(closerPts)\n",
    "    # 8. Recluster the weighted points in C into k clusters\n",
    "    allC = data[np.random.choice(range(len(c)),size=1,p=weight),]\n",
    "    data_final = c\n",
    "    for i in range(k-1):\n",
    "        Probability = SamplingProbability(allC,data_final,l) * weight\n",
    "        # choose next centroid\n",
    "        cPrimeFin = data[np.random.choice(range(len(c)), size=1, p=Probability/np.sum(Probability)),]\n",
    "        allC = np.concatenate((allC,cPrimeFin))\n",
    "    KMeansPP = sklearn.cluster.KMeans(n_clusters=k, n_init=1, init=allC, max_iter=500, tol=0.0001)\n",
    "    KMeansPP.fit(data);\n",
    "    return KMeansPP"
   ]
  },
  {
   "cell_type": "code",
   "execution_count": 80,
   "metadata": {
    "collapsed": false
   },
   "outputs": [
    {
     "name": "stdout",
     "output_type": "stream",
     "text": [
      "Overwriting tests/SamplingProbability_func.py\n"
     ]
    }
   ],
   "source": [
    "%%file tests/SamplingProbability_func.py\n",
    "\n",
    "#!/usr/bin/python\n",
    "import numpy as np\n",
    "from CostFunction_func import CostFunction\n",
    "\n",
    "#sample probability function\n",
    "def SamplingProbability(c, data, l):\n",
    "    cost = CostFunction(c, data)\n",
    "    return np.array([(min(np.sum((c-pts)**2,axis=1))) * l / cost for pts in data])"
   ]
  },
  {
   "cell_type": "code",
   "execution_count": 81,
   "metadata": {
    "collapsed": false
   },
   "outputs": [
    {
     "name": "stdout",
     "output_type": "stream",
     "text": [
      "Overwriting tests/CostFunction_func.py\n"
     ]
    }
   ],
   "source": [
    "%%file tests/CostFunction_func.py\n",
    "\n",
    "#!/usr/bin/python\n",
    "import numpy as np\n",
    "\n",
    "##cost function\n",
    "def CostFunction(c,data):\n",
    "        return np.sum([min(np.sum((c-pts)**2,axis=1)) for pts in data]) "
   ]
  },
  {
   "cell_type": "code",
   "execution_count": 82,
   "metadata": {
    "collapsed": false
   },
   "outputs": [
    {
     "name": "stdout",
     "output_type": "stream",
     "text": [
      "Overwriting tests/test_KMeansParallel.py\n"
     ]
    }
   ],
   "source": [
    "%%file tests/test_KMeansParallel.py\n",
    "\n",
    "import numpy as np\n",
    "import sys\n",
    "from numpy.testing import assert_almost_equal\n",
    "from KMeansParallel_func import KMeansParallel\n",
    "\n",
    "\n",
    "def test_feasible_k_zero():\n",
    "    for i in range(20):\n",
    "        data = np.random.normal(size=(20,2))\n",
    "        k = 0\n",
    "        assert sys.exit\n",
    "\n",
    "def test_feasible1_k_float():\n",
    "    for i in range(20):\n",
    "        data = np.random.normal(size=(20,2))\n",
    "        k = 1.5\n",
    "        assert sys.exit\n",
    "        \n",
    "def test_feasible1_k_float():\n",
    "    for i in range(20):\n",
    "        data = np.random.normal(size=(20,2))\n",
    "        l = -1\n",
    "        assert sys.exit\n",
    "\n",
    "def test_level_label():\n",
    "    for i in range(20):\n",
    "        data = np.random.normal(size=(20,2))\n",
    "        k = 3\n",
    "        assert len(set(KMeansParallel(data = data, k = k, l = 2*k).labels_)) == k\n",
    "\n",
    "def test_num_label():\n",
    "    for i in range(20):\n",
    "        data = np.random.normal(size=(20,2))\n",
    "        k = 3\n",
    "        assert len(KMeansParallel(data = data, k = k, l = 2*k).labels_) == len(data)"
   ]
  },
  {
   "cell_type": "code",
   "execution_count": 83,
   "metadata": {
    "collapsed": false
   },
   "outputs": [
    {
     "name": "stdout",
     "output_type": "stream",
     "text": [
      "Overwriting tests/test_SamplingProbability.py\n"
     ]
    }
   ],
   "source": [
    "%%file tests/test_SamplingProbability.py\n",
    "\n",
    "import numpy as np\n",
    "from numpy.testing import assert_almost_equal\n",
    "from SamplingProbability_func import SamplingProbability\n",
    "from CostFunction_func import CostFunction\n",
    "\n",
    "def test_positive_probability():\n",
    "    l = 2\n",
    "    for i in range(20):\n",
    "        data = np.random.normal(size=(20,2))\n",
    "        c = data[np.random.choice(range(20),1),]\n",
    "        assert np.alltrue(SamplingProbability(c,data,l) >= 0)\n",
    "\n",
    "def test_sum_to_l():\n",
    "    for i in range(20):\n",
    "        l = i + 1\n",
    "        data = np.random.normal(size=(20,2))\n",
    "        c = data[np.random.choice(range(20),1),]\n",
    "        assert (np.sum(SamplingProbability(c,data,l)) - l) <= 1e-6\n",
    "\n",
    "def test_zero_probability():\n",
    "    l = 2\n",
    "    for i in range(20):\n",
    "        data = np.random.normal(size=(20,2))\n",
    "        choice = np.random.choice(range(20),1)\n",
    "        c = data[choice,]\n",
    "        Probability = SamplingProbability(c,data,l)\n",
    "        assert np.alltrue(Probability[choice,] == 0)"
   ]
  },
  {
   "cell_type": "code",
   "execution_count": 84,
   "metadata": {
    "collapsed": false
   },
   "outputs": [
    {
     "name": "stdout",
     "output_type": "stream",
     "text": [
      "Overwriting tests/test_CostFunction.py\n"
     ]
    }
   ],
   "source": [
    "%%file tests/test_CostFunction.py\n",
    "\n",
    "import numpy as np\n",
    "from numpy.testing import assert_almost_equal\n",
    "from CostFunction_func import CostFunction\n",
    "\n",
    "def test_postive_cost():\n",
    "    for i in range(20):\n",
    "        data = np.random.normal(size=(20,2))\n",
    "        c = data[np.random.choice(range(20),1),]\n",
    "        assert CostFunction(c, data) >= 0\n",
    "\n",
    "def test_c_equals_data():\n",
    "    for i in range(20):\n",
    "        data = np.random.normal(size=(20,2))\n",
    "        c = data\n",
    "        assert CostFunction(c, data) == 0\n",
    "\n",
    "def test_larger_c_smaller_cost():\n",
    "     for i in range(20):\n",
    "        data = np.random.normal(size=(20,2))\n",
    "        larger_c = data[np.random.choice(range(20),5,replace=False),]\n",
    "        c = larger_c[:4,]\n",
    "        assert CostFunction(larger_c, data) <= CostFunction(c, data)"
   ]
  },
  {
   "cell_type": "code",
   "execution_count": 78,
   "metadata": {
    "collapsed": false
   },
   "outputs": [
    {
     "name": "stdout",
     "output_type": "stream",
     "text": [
      "\u001b[1m============================= test session starts ==============================\u001b[0m\n",
      "platform darwin -- Python 3.4.3 -- py-1.4.26 -- pytest-2.6.4\n",
      "collected 10 items \n",
      "\u001b[0m\n",
      "tests/test_CostFunction.py ...\n",
      "tests/test_KMeansParallel.py ....\n",
      "tests/test_SamplingProbability.py ...\n",
      "\n",
      "\u001b[32m\u001b[1m========================== 10 passed in 0.65 seconds ===========================\u001b[0m\n"
     ]
    }
   ],
   "source": [
    "! cd tests\n",
    "! py.test"
   ]
  },
  {
   "cell_type": "code",
   "execution_count": null,
   "metadata": {
    "collapsed": true
   },
   "outputs": [],
   "source": []
  }
 ],
 "metadata": {
  "kernelspec": {
   "display_name": "Python 3",
   "language": "python",
   "name": "python3"
  },
  "language_info": {
   "codemirror_mode": {
    "name": "ipython",
    "version": 3
   },
   "file_extension": ".py",
   "mimetype": "text/x-python",
   "name": "python",
   "nbconvert_exporter": "python",
   "pygments_lexer": "ipython3",
   "version": "3.4.3"
  }
 },
 "nbformat": 4,
 "nbformat_minor": 0
}
