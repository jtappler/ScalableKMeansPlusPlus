{
 "cells": [
  {
   "cell_type": "markdown",
   "metadata": {},
   "source": [
    "# Scalable K-means++"
   ]
  },
  {
   "cell_type": "markdown",
   "metadata": {},
   "source": [
    "## Outline of Background"
   ]
  },
  {
   "cell_type": "markdown",
   "metadata": {},
   "source": [
    "1. ***K*-means** remains one of the most popular data processing algorithms. However a proper initialization is crucial for reciveing successful results. \n",
    "\n",
    "2. ***K*-means++** algorithm achived the goal of finding proper initialization with downside of its inherent sequentical nature, which limits its efficiency ( *O(n)* ) and applicability to big massive datasets.\n",
    "\n",
    "3. The paper *Scalable* proposed the ***k*-means||** algorithm with efficiency ( *O(log n)* ), which forms ***k*-means++** in both sequential and parallel settings."
   ]
  },
  {
   "cell_type": "markdown",
   "metadata": {},
   "source": [
    "## Algorithm / Pseudocode"
   ]
  },
  {
   "cell_type": "markdown",
   "metadata": {},
   "source": [
    "### Notations\n",
    "\n",
    "Let $X =\\{x_1,...x_n\\}$ be the set of points in $d$-dimensional Euclidean space, and let $k$ be a positive integer specifying the number of clusters. Let ||$x_i$ - $x_j$ || denote the Euclidean distance between $x_i$ and $x_j$. For a point $x$ and a subset $Y \\subseteq X$ of points, the distance is defined as $d(x,Y) = min_{y \\in Y} ||x - y||$. For a subset $Y \\subseteq X$ of points, let its \\text{centroid} be given by\n",
    "\\begin{equation*}\n",
    "\\begin{split}\n",
    "    \\text{centroid}(Y) = \\frac{1}{|Y|}\\sum_{y \\in Y} x\n",
    "\\end{split}\n",
    "\\end{equation*}\n",
    "Let $C =\\{c_1,...c_k\\}$ be the ser of points and let $Y \\subseteq X$. We define the \\text{cost} of $Y$ with respect to $C$ as\n",
    "\\begin{equation*}\n",
    "\\begin{split}\n",
    "    \\phi_Y(C) = \\sum_{y \\in Y} d^2(y,C) = \\sum_{y \\in Y} \\min_{i=1,...,k}||y-c_i||^2\n",
    "\\end{split}\n",
    "\\end{equation*}\n",
    "\n",
    "\n",
    "### $k$-means++($k$) initialization\n",
    "1. $C \\leftarrow$ sample a point uniformlt at random from $X$ \n",
    "2. **while** $|C|<k$ **do**\n",
    "  - Sample $x \\in X$ with probability $\\frac{d^2(x,C)}{\\phi_X(C)}$\n",
    "  - $C \\leftarrow C \\cup \\{x\\}$ \n",
    "3. **end while**\n",
    "\n",
    "### $k$-means||($k,l$) initialization\n",
    "1. $C \\leftarrow$ sample a point uniformlt at random from $X$ \n",
    "2. $\\psi \\leftarrow \\phi_X(C)$\n",
    "3. **for** $O$(log$\\psi$) times **do**\n",
    "  - $C' \\leftarrow$ sample each point $x \\in X$ independently with probability $p_x = \\frac{l \\cdot d^2(x,C)}{\\phi_X(C)}$\t\n",
    "  - $C \\leftarrow C \\cup C'$ \n",
    "4. **end for** \n",
    "5. For $x \\in C$, set $w_x$ to be the number of points in $X$ closer to $x$ than any point in $C$ \n",
    "6. Recluster the weighted points in $C$ into $k$ clusters"
   ]
  },
  {
   "cell_type": "markdown",
   "metadata": {},
   "source": [
    "## Draft of unit test"
   ]
  },
  {
   "cell_type": "markdown",
   "metadata": {},
   "source": [
    "**Will verify the code correctness using following tests:**\n",
    "\n",
    "1. Test the distance using both ***k*-means++** and ***k*-means||** algorithms to verify the results\n",
    "2. Test distance function using examples in terms of: \n",
    "  - symmetry\n",
    "  - zero\n",
    "  - non-negativity \n",
    "3. Bechmark test compare the efficiency of ***k*-means++** and ***k*-means||** algorithms."
   ]
  },
  {
   "cell_type": "markdown",
   "metadata": {},
   "source": [
    "## Optimization Strategies"
   ]
  },
  {
   "cell_type": "markdown",
   "metadata": {},
   "source": [
    "1. Using alternative method to replace for loop in Python\n",
    "2. Will try on large datasets, if still take too long. Could try to use other languages to write the looping part"
   ]
  },
  {
   "cell_type": "markdown",
   "metadata": {},
   "source": [
    "## Data simulation"
   ]
  },
  {
   "cell_type": "markdown",
   "metadata": {},
   "source": [
    "Simulating sample data from three bivariate normal distribution.\n",
    "\n",
    "\\begin{eqnarray*}\n",
    "\\begin{pmatrix}x_{1}\\\\\n",
    "x_{2}\n",
    "\\end{pmatrix} & \\sim & N\\left[\\left(\\begin{array}{c}\n",
    "0\\\\\n",
    "1\n",
    "\\end{array}\\right),\\left(\\begin{array}{ccc}\n",
    "1 & 0.5\\\\\n",
    "0 & 2\n",
    "\\end{array}\\right)\\right]\\\\\n",
    "\\begin{pmatrix}y_{1}\\\\\n",
    "y_{2}\n",
    "\\end{pmatrix} & \\sim & N\\left[\\left(\\begin{array}{c}\n",
    "3\\\\\n",
    "7\n",
    "\\end{array}\\right),\\left(\\begin{array}{ccc}\n",
    "1 & 0.33\\\\\n",
    "0.33 & 1\n",
    "\\end{array}\\right)\\right]\\\\\n",
    "\\begin{pmatrix}z_{1}\\\\\n",
    "z_{2}\n",
    "\\end{pmatrix} & \\sim & N\\left[\\left(\\begin{array}{c}\n",
    "-8\\\\\n",
    "2\n",
    "\\end{array}\\right),\\left(\\begin{array}{ccc}\n",
    "2 & 0.66\\\\\n",
    "0.66 & 2\n",
    "\\end{array}\\right)\\right]\\\\\n",
    "\\end{eqnarray*}\n",
    "\n"
   ]
  },
  {
   "cell_type": "code",
   "execution_count": 5,
   "metadata": {
    "collapsed": false
   },
   "outputs": [
    {
     "name": "stdout",
     "output_type": "stream",
     "text": [
      "(150, 3)\n"
     ]
    },
    {
     "data": {
      "text/plain": [
       "array([[  5.57524633e-01,   1.79411743e+00,   1.00000000e+00],\n",
       "       [ -6.94784243e+00,   5.22336967e+00,   3.00000000e+00],\n",
       "       [ -5.21833773e-01,   2.17736178e+00,   1.00000000e+00],\n",
       "       [  7.11255766e-01,   5.70181667e+00,   2.00000000e+00],\n",
       "       [  1.57342873e+00,   1.39023547e+00,   1.00000000e+00],\n",
       "       [  1.36293171e+00,   5.81830139e+00,   2.00000000e+00],\n",
       "       [ -8.44499307e-01,   4.87658911e-01,   1.00000000e+00],\n",
       "       [ -5.91854044e+00,   2.76379068e+00,   3.00000000e+00],\n",
       "       [ -2.82598978e-01,   8.61343498e-02,   1.00000000e+00],\n",
       "       [  2.83049640e+00,   6.35305620e+00,   2.00000000e+00],\n",
       "       [ -6.91225255e+00,   1.19906541e+00,   3.00000000e+00],\n",
       "       [ -3.16911985e-01,   2.64092125e+00,   1.00000000e+00],\n",
       "       [ -4.34184185e-01,  -4.62357958e-01,   1.00000000e+00],\n",
       "       [ -8.38795400e-01,   1.97600107e+00,   1.00000000e+00],\n",
       "       [ -9.33366176e+00,   3.91790189e-01,   3.00000000e+00],\n",
       "       [  3.12248734e+00,   7.79461164e+00,   2.00000000e+00],\n",
       "       [ -5.68487354e+00,   2.77709318e+00,   3.00000000e+00],\n",
       "       [ -7.48735306e+00,   2.77915638e+00,   3.00000000e+00],\n",
       "       [ -6.19906995e-01,   1.22061443e+00,   1.00000000e+00],\n",
       "       [ -6.55885412e+00,   3.22909621e+00,   3.00000000e+00],\n",
       "       [  9.78243846e-01,   1.82732651e+00,   1.00000000e+00],\n",
       "       [ -6.95529034e+00,   9.98548376e-01,   3.00000000e+00],\n",
       "       [ -6.39442405e+00,   3.68854968e+00,   3.00000000e+00],\n",
       "       [ -5.59148636e+00,   2.47025593e+00,   3.00000000e+00],\n",
       "       [  2.63445358e+00,   7.38509517e+00,   2.00000000e+00],\n",
       "       [ -1.87652109e+00,   1.63522579e-01,   1.00000000e+00],\n",
       "       [  4.85969052e+00,   7.70387008e+00,   2.00000000e+00],\n",
       "       [ -4.06495722e+00,   3.03628072e+00,   3.00000000e+00],\n",
       "       [ -9.72417058e+00,   2.49928711e+00,   3.00000000e+00],\n",
       "       [ -9.18241627e+00,   2.71449903e+00,   3.00000000e+00],\n",
       "       [ -5.77295704e+00,   8.88921723e-01,   3.00000000e+00],\n",
       "       [  1.15018571e+00,   2.71863552e-01,   1.00000000e+00],\n",
       "       [ -7.76897057e-01,   1.44990125e+00,   1.00000000e+00],\n",
       "       [  3.29493590e+00,   8.09487461e+00,   2.00000000e+00],\n",
       "       [ -6.64863368e-01,   2.95785871e-01,   1.00000000e+00],\n",
       "       [ -5.71753391e-01,   1.56516137e-01,   1.00000000e+00],\n",
       "       [ -8.62017127e+00,   2.50114595e+00,   3.00000000e+00],\n",
       "       [ -6.78192550e+00,   1.14218006e+00,   3.00000000e+00],\n",
       "       [  2.54684943e+00,   6.09940008e+00,   2.00000000e+00],\n",
       "       [  3.51325438e+00,   7.34238874e+00,   2.00000000e+00],\n",
       "       [ -9.48091064e+00,  -1.12427554e+00,   3.00000000e+00],\n",
       "       [  1.10818953e+00,   2.17186546e+00,   1.00000000e+00],\n",
       "       [  2.04058176e+00,   5.86333150e+00,   2.00000000e+00],\n",
       "       [  6.77246978e-01,   1.70818671e+00,   1.00000000e+00],\n",
       "       [ -7.56312071e+00,   1.14904846e+00,   3.00000000e+00],\n",
       "       [  2.10542977e-01,   1.40210742e+00,   1.00000000e+00],\n",
       "       [  2.96552624e+00,   6.97577061e+00,   2.00000000e+00],\n",
       "       [ -6.65553543e+00,   4.47606248e+00,   3.00000000e+00],\n",
       "       [  1.69181736e-01,   9.29358065e-01,   1.00000000e+00],\n",
       "       [  2.72604490e+00,   8.65356869e+00,   2.00000000e+00],\n",
       "       [  1.28702218e+00,   8.12652413e-01,   1.00000000e+00],\n",
       "       [  6.87562168e-01,  -2.56399092e-01,   1.00000000e+00],\n",
       "       [  2.50687150e+00,   5.98581680e+00,   2.00000000e+00],\n",
       "       [ -1.15390418e+00,  -1.42953341e+00,   1.00000000e+00],\n",
       "       [  1.85960496e+00,   8.98113887e+00,   2.00000000e+00],\n",
       "       [  1.21633501e+00,   2.89217319e+00,   1.00000000e+00],\n",
       "       [ -9.34644430e+00,   1.36099268e+00,   3.00000000e+00],\n",
       "       [ -7.03374321e+00,   2.36866697e+00,   3.00000000e+00],\n",
       "       [ -6.64191876e+00,   2.17633079e+00,   3.00000000e+00],\n",
       "       [  3.20145244e+00,   7.13365521e+00,   2.00000000e+00],\n",
       "       [ -6.53821769e+00,   3.08982858e+00,   3.00000000e+00],\n",
       "       [ -8.39896781e-01,   1.37771350e+00,   1.00000000e+00],\n",
       "       [  1.07922677e+00,   3.08965018e+00,   1.00000000e+00],\n",
       "       [ -7.96573746e+00,   2.03257897e+00,   3.00000000e+00],\n",
       "       [ -7.92500591e+00,   2.96133189e+00,   3.00000000e+00],\n",
       "       [  3.21044508e+00,   7.30458319e+00,   2.00000000e+00],\n",
       "       [ -9.63565043e-01,  -1.16816385e+00,   1.00000000e+00],\n",
       "       [ -2.18755402e-01,  -1.66765725e+00,   1.00000000e+00],\n",
       "       [  2.77996287e+00,   6.65868088e+00,   2.00000000e+00],\n",
       "       [ -9.14285457e+00,  -1.16975981e-01,   3.00000000e+00],\n",
       "       [ -5.91525432e+00,   2.76246783e+00,   3.00000000e+00],\n",
       "       [ -7.40038006e+00,   3.20018889e+00,   3.00000000e+00],\n",
       "       [  2.99651518e+00,   7.68104053e+00,   2.00000000e+00],\n",
       "       [  2.11814862e+00,   6.87457727e+00,   2.00000000e+00],\n",
       "       [  2.82126290e+00,   6.21130255e+00,   2.00000000e+00],\n",
       "       [ -5.18768287e+00,   5.60415368e-01,   3.00000000e+00],\n",
       "       [  2.65674477e+00,   6.77989722e+00,   2.00000000e+00],\n",
       "       [  2.05863457e+00,   6.38085792e+00,   2.00000000e+00],\n",
       "       [ -6.47936329e+00,   1.98775975e+00,   3.00000000e+00],\n",
       "       [  1.07830819e+00,   1.61510980e+00,   1.00000000e+00],\n",
       "       [  1.41681719e+00,   6.61057097e+00,   2.00000000e+00],\n",
       "       [  3.96966379e-01,   1.00128700e-03,   1.00000000e+00],\n",
       "       [  9.11606794e-01,   6.36319551e+00,   2.00000000e+00],\n",
       "       [  1.02802426e+00,   2.63933825e+00,   1.00000000e+00],\n",
       "       [ -2.21755448e-01,   3.85879899e-01,   1.00000000e+00],\n",
       "       [  4.40431884e+00,   7.33165317e+00,   2.00000000e+00],\n",
       "       [  3.15026562e+00,   7.57122064e+00,   2.00000000e+00],\n",
       "       [ -7.61593906e+00,   2.62711906e+00,   3.00000000e+00],\n",
       "       [ -6.15915837e-01,   2.03147628e+00,   1.00000000e+00],\n",
       "       [  2.05038625e+00,   6.78330471e+00,   2.00000000e+00],\n",
       "       [ -9.28320288e+00,   1.26036574e+00,   3.00000000e+00],\n",
       "       [ -6.68822743e-01,   1.52271189e+00,   1.00000000e+00],\n",
       "       [ -6.28834108e+00,   3.31241345e+00,   3.00000000e+00],\n",
       "       [ -8.63690101e+00,   3.33711144e+00,   3.00000000e+00],\n",
       "       [  3.45398399e+00,   8.65151790e+00,   2.00000000e+00],\n",
       "       [ -1.96383615e+00,   1.05835922e+00,   1.00000000e+00],\n",
       "       [  4.67603989e+00,   8.37397313e+00,   2.00000000e+00],\n",
       "       [  4.22703648e-01,   5.92367520e+00,   2.00000000e+00],\n",
       "       [  2.94830925e+00,   5.95023181e+00,   2.00000000e+00],\n",
       "       [ -7.84278096e+00,  -1.21731940e+00,   3.00000000e+00],\n",
       "       [ -9.01208616e+00,   1.84811415e+00,   3.00000000e+00],\n",
       "       [  1.93435959e+00,   8.15192813e+00,   2.00000000e+00],\n",
       "       [  3.05050765e+00,   7.49225694e+00,   2.00000000e+00],\n",
       "       [  2.18609612e+00,   7.91233620e+00,   2.00000000e+00],\n",
       "       [  2.30516939e+00,   5.48358067e+00,   2.00000000e+00],\n",
       "       [  2.18284953e+00,   7.79290107e+00,   2.00000000e+00],\n",
       "       [ -3.23227923e-01,   1.40658887e+00,   1.00000000e+00],\n",
       "       [ -8.74944141e+00,   1.41492234e+00,   3.00000000e+00],\n",
       "       [  2.92702229e+00,   6.16398041e+00,   2.00000000e+00],\n",
       "       [ -9.11310581e+00,  -2.56529924e-02,   3.00000000e+00],\n",
       "       [  3.36003095e+00,   9.16774496e+00,   2.00000000e+00],\n",
       "       [ -4.54155028e-01,  -1.53850229e-01,   1.00000000e+00],\n",
       "       [  2.49183937e+00,   8.10033169e+00,   2.00000000e+00],\n",
       "       [  4.45628570e-01,   2.14505757e+00,   1.00000000e+00],\n",
       "       [ -4.89284076e-01,  -2.89566356e-01,   1.00000000e+00],\n",
       "       [ -7.90636223e+00,   2.13940251e+00,   3.00000000e+00],\n",
       "       [  8.22762921e-01,   1.79397020e+00,   1.00000000e+00],\n",
       "       [ -7.83983949e+00,   1.75243312e+00,   3.00000000e+00],\n",
       "       [  4.43483099e-02,   1.20949862e+00,   1.00000000e+00],\n",
       "       [  3.79218457e+00,   8.25522518e+00,   2.00000000e+00],\n",
       "       [  2.43568816e+00,   6.32244102e+00,   2.00000000e+00],\n",
       "       [ -7.16772407e+00,   2.84389156e+00,   3.00000000e+00],\n",
       "       [  2.08033501e+00,   7.09572695e+00,   2.00000000e+00],\n",
       "       [  3.14454680e+00,   8.25945971e+00,   2.00000000e+00],\n",
       "       [ -8.82080858e+00,   1.25509850e+00,   3.00000000e+00],\n",
       "       [ -8.81035365e+00,   4.07589067e+00,   3.00000000e+00],\n",
       "       [ -9.88532885e+00,   1.82644751e+00,   3.00000000e+00],\n",
       "       [  2.50704203e-01,   7.08527511e-01,   1.00000000e+00],\n",
       "       [  9.33497165e-01,   7.18680015e+00,   2.00000000e+00],\n",
       "       [ -1.09756020e+01,   2.08100884e+00,   3.00000000e+00],\n",
       "       [ -8.47365561e+00,   9.53009713e-01,   3.00000000e+00],\n",
       "       [  4.13052356e-01,   2.95917354e+00,   1.00000000e+00],\n",
       "       [ -7.63035086e-01,  -6.11910173e-02,   1.00000000e+00],\n",
       "       [ -1.69661996e+00,  -1.66711607e+00,   1.00000000e+00],\n",
       "       [ -1.04359472e+00,   9.14362218e-01,   1.00000000e+00],\n",
       "       [  2.96099943e+00,   6.80570493e+00,   2.00000000e+00],\n",
       "       [  4.09400150e+00,   7.14448968e+00,   2.00000000e+00],\n",
       "       [  1.80814194e+00,   6.01491225e+00,   2.00000000e+00],\n",
       "       [ -7.25714544e+00,   2.77396351e+00,   3.00000000e+00],\n",
       "       [  3.41303856e+00,   7.03377068e+00,   2.00000000e+00],\n",
       "       [ -7.07229635e-01,   1.06064950e+00,   1.00000000e+00],\n",
       "       [ -4.85580697e-01,   1.96865887e+00,   1.00000000e+00],\n",
       "       [ -5.04420843e+00,   4.34449883e+00,   3.00000000e+00],\n",
       "       [ -7.89180218e+00,   1.26236863e+00,   3.00000000e+00],\n",
       "       [  4.72146653e+00,   6.01263012e+00,   2.00000000e+00],\n",
       "       [ -3.92398769e-01,   1.33745496e-01,   1.00000000e+00],\n",
       "       [  1.11865629e+00,   1.67779688e-01,   1.00000000e+00],\n",
       "       [ -5.61882109e+00,   1.97983284e+00,   3.00000000e+00],\n",
       "       [ -4.04979878e-01,   1.39940950e+00,   1.00000000e+00],\n",
       "       [  2.32992293e+00,   5.32518913e+00,   2.00000000e+00]])"
      ]
     },
     "execution_count": 5,
     "metadata": {},
     "output_type": "execute_result"
    }
   ],
   "source": [
    "%%file DataSimulation.py\n",
    "\n",
    "# Simulated \"Real\" Data Set\n",
    "#!/usr/bin/python\n",
    "import os\n",
    "import sys\n",
    "import glob\n",
    "import random\n",
    "import numpy as np\n",
    "import pandas as pd\n",
    "\n",
    "def DataSimulation(n):\n",
    "    mean0 = [0, 1]\n",
    "    cov0 = [[1, 0.5], [0.5, 2]]\n",
    "    data0 = np.random.multivariate_normal(mean0, cov0, n)\n",
    "    data0 = np.hstack((data0, np.ones((data0.shape[0],1))))\n",
    "\n",
    "    mean1 = [3, 7]\n",
    "    cov1 = [[1, 0.33], [0.33, 1]]\n",
    "    data1 = np.random.multivariate_normal(mean1, cov1, n)\n",
    "    data1 = np.hstack((data1, np.ones((data1.shape[0],1)) * 2))\n",
    "\n",
    "    mean2 = [-8, 2]\n",
    "    cov2 = [[2, 0.66], [0.66, 2]]\n",
    "    data2 = np.random.multivariate_normal(mean2, cov2, n)\n",
    "    data2 = np.hstack((data2, np.ones((data2.shape[0],1)) * 3))\n",
    "\n",
    "    data = np.vstack((data0, data1, data2))\n",
    "    np.random.shuffle(data)\n",
    "    print (data.shape)\n",
    "    return data\n",
    "\n",
    "DataSimulation(50)"
   ]
  },
  {
   "cell_type": "markdown",
   "metadata": {
    "collapsed": false
   },
   "source": [
    "## Algorithm comparison"
   ]
  },
  {
   "cell_type": "markdown",
   "metadata": {},
   "source": [
    "For algorithm comparison, I will using different sizes of same sample data to clustering using orginal k-means, k-means++, k-means||. Test their result and compare the efficiency."
   ]
  },
  {
   "cell_type": "markdown",
   "metadata": {
    "collapsed": true
   },
   "source": [
    "## Code"
   ]
  },
  {
   "cell_type": "code",
   "execution_count": null,
   "metadata": {
    "collapsed": true
   },
   "outputs": [],
   "source": []
  }
 ],
 "metadata": {
  "kernelspec": {
   "display_name": "Python 3",
   "language": "python",
   "name": "python3"
  },
  "language_info": {
   "codemirror_mode": {
    "name": "ipython",
    "version": 3
   },
   "file_extension": ".py",
   "mimetype": "text/x-python",
   "name": "python",
   "nbconvert_exporter": "python",
   "pygments_lexer": "ipython3",
   "version": "3.4.3"
  }
 },
 "nbformat": 4,
 "nbformat_minor": 0
}
